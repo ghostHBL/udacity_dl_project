{
 "cells": [
  {
   "cell_type": "markdown",
   "metadata": {
    "collapsed": true
   },
   "source": [
    "# Image Classification\n",
    "In this project, you'll classify images from the [CIFAR-10 dataset](https://www.cs.toronto.edu/~kriz/cifar.html).  The dataset consists of airplanes, dogs, cats, and other objects. You'll preprocess the images, then train a convolutional neural network on all the samples. The images need to be normalized and the labels need to be one-hot encoded.  You'll get to apply what you learned and build a convolutional, max pooling, dropout, and fully connected layers.  At the end, you'll get to see your neural network's predictions on the sample images.\n",
    "## Get the Data\n",
    "Run the following cell to download the [CIFAR-10 dataset for python](https://www.cs.toronto.edu/~kriz/cifar-10-python.tar.gz)."
   ]
  },
  {
   "cell_type": "code",
   "execution_count": 5,
   "metadata": {},
   "outputs": [
    {
     "name": "stdout",
     "output_type": "stream",
     "text": [
      "All files found!\n"
     ]
    }
   ],
   "source": [
    "\"\"\"\n",
    "DON'T MODIFY ANYTHING IN THIS CELL THAT IS BELOW THIS LINE\n",
    "\"\"\"\n",
    "from urllib.request import urlretrieve\n",
    "from os.path import isfile, isdir\n",
    "from tqdm import tqdm\n",
    "import problem_unittests as tests\n",
    "import tarfile\n",
    "\n",
    "cifar10_dataset_folder_path = 'cifar-10-batches-py'\n",
    "\n",
    "class DLProgress(tqdm):\n",
    "    last_block = 0\n",
    "\n",
    "    def hook(self, block_num=1, block_size=1, total_size=None):\n",
    "        self.total = total_size\n",
    "        self.update((block_num - self.last_block) * block_size)\n",
    "        self.last_block = block_num\n",
    "\n",
    "if not isfile('cifar-10-python.tar.gz'):\n",
    "    with DLProgress(unit='B', unit_scale=True, miniters=1, desc='CIFAR-10 Dataset') as pbar:\n",
    "        urlretrieve(\n",
    "            'https://www.cs.toronto.edu/~kriz/cifar-10-python.tar.gz',\n",
    "            'cifar-10-python.tar.gz',\n",
    "            pbar.hook)\n",
    "\n",
    "if not isdir(cifar10_dataset_folder_path):\n",
    "    with tarfile.open('cifar-10-python.tar.gz') as tar:\n",
    "        tar.extractall()\n",
    "        tar.close()\n",
    "\n",
    "\n",
    "tests.test_folder_path(cifar10_dataset_folder_path)"
   ]
  },
  {
   "cell_type": "markdown",
   "metadata": {},
   "source": [
    "## Explore the Data\n",
    "The dataset is broken into batches to prevent your machine from running out of memory.  The CIFAR-10 dataset consists of 5 batches, named `data_batch_1`, `data_batch_2`, etc.. Each batch contains the labels and images that are one of the following:\n",
    "* airplane\n",
    "* automobile\n",
    "* bird\n",
    "* cat\n",
    "* deer\n",
    "* dog\n",
    "* frog\n",
    "* horse\n",
    "* ship\n",
    "* truck\n",
    "\n",
    "Understanding a dataset is part of making predictions on the data.  Play around with the code cell below by changing the `batch_id` and `sample_id`. The `batch_id` is the id for a batch (1-5). The `sample_id` is the id for a image and label pair in the batch.\n",
    "\n",
    "Ask yourself \"What are all possible labels?\", \"What is the range of values for the image data?\", \"Are the labels in order or random?\".  Answers to questions like these will help you preprocess the data and end up with better predictions."
   ]
  },
  {
   "cell_type": "code",
   "execution_count": 6,
   "metadata": {},
   "outputs": [
    {
     "name": "stdout",
     "output_type": "stream",
     "text": [
      "\n",
      "Stats of batch 1:\n",
      "Samples: 10000\n",
      "Label Counts: {0: 1005, 1: 974, 2: 1032, 3: 1016, 4: 999, 5: 937, 6: 1030, 7: 1001, 8: 1025, 9: 981}\n",
      "First 20 Labels: [6, 9, 9, 4, 1, 1, 2, 7, 8, 3, 4, 7, 7, 2, 9, 9, 9, 3, 2, 6]\n",
      "\n",
      "Example of Image 5:\n",
      "Image - Min Value: 0 Max Value: 252\n",
      "Image - Shape: (32, 32, 3)\n",
      "Label - Label Id: 1 Name: automobile\n"
     ]
    },
    {
     "data": {
      "image/png": "[encoded data removed]",
      "text/plain": [
       "<matplotlib.figure.Figure at 0x7f0367d30908>"
      ]
     },
     "metadata": {
      "image/png": {
       "height": 250,
       "width": 253
      }
     },
     "output_type": "display_data"
    }
   ],
   "source": [
    "%matplotlib inline\n",
    "%config InlineBackend.figure_format = 'retina'\n",
    "\n",
    "import helper\n",
    "import numpy as np\n",
    "\n",
    "# Explore the dataset\n",
    "batch_id = 1\n",
    "sample_id = 5\n",
    "helper.display_stats(cifar10_dataset_folder_path, batch_id, sample_id)"
   ]
  },
  {
   "cell_type": "markdown",
   "metadata": {},
   "source": [
    "## Implement Preprocess Functions\n",
    "### Normalize\n",
    "In the cell below, implement the `normalize` function to take in image data, `x`, and return it as a normalized Numpy array. The values should be in the range of 0 to 1, inclusive.  The return object should be the same shape as `x`."
   ]
  },
  {
   "cell_type": "code",
   "execution_count": 7,
   "metadata": {},
   "outputs": [
    {
     "name": "stdout",
     "output_type": "stream",
     "text": [
      "Tests Passed\n"
     ]
    }
   ],
   "source": [
    "def normalize(x):\n",
    "    \"\"\"\n",
    "    Normalize a list of sample image data in the range of 0 to 1\n",
    "    : x: List of image data.  The image shape is (32, 32, 3)\n",
    "    : return: Numpy array of normalize data\n",
    "    \"\"\"\n",
    "    # TODO: Implement Function\n",
    "    max_value = 255\n",
    "    min_value = 0\n",
    "    return (x-min_value)/(max_value-min_value)\n",
    "\n",
    "\n",
    "\"\"\"\n",
    "DON'T MODIFY ANYTHING IN THIS CELL THAT IS BELOW THIS LINE\n",
    "\"\"\"\n",
    "tests.test_normalize(normalize)"
   ]
  },
  {
   "cell_type": "markdown",
   "metadata": {},
   "source": [
    "### One-hot encode\n",
    "Just like the previous code cell, you'll be implementing a function for preprocessing.  This time, you'll implement the `one_hot_encode` function. The input, `x`, are a list of labels.  Implement the function to return the list of labels as One-Hot encoded Numpy array.  The possible values for labels are 0 to 9. The one-hot encoding function should return the same encoding for each value between each call to `one_hot_encode`.  Make sure to save the map of encodings outside the function.\n",
    "\n",
    "Hint: Don't reinvent the wheel."
   ]
  },
  {
   "cell_type": "code",
   "execution_count": 8,
   "metadata": {},
   "outputs": [
    {
     "name": "stdout",
     "output_type": "stream",
     "text": [
      "Tests Passed\n"
     ]
    }
   ],
   "source": [
    "def one_hot_encode(x):\n",
    "    \"\"\"\n",
    "    One hot encode a list of sample labels. Return a one-hot encoded vector for each label.\n",
    "    : x: List of sample Labels\n",
    "    : return: Numpy array of one-hot encoded labels\n",
    "    \"\"\"\n",
    "    # TODO: Implement Function\n",
    "    k = 10 # I think the test function is not good, since I get error when I use k = len(set(x)) which I think is better k\n",
    "    m = len(x)\n",
    "    ret = np.zeros([m, k])\n",
    "    for index in range(m):\n",
    "        ret[index, x[index]] = 1\n",
    "    \n",
    "    '''\n",
    "    #use sklearn\n",
    "    from sklearn import preprocessing\n",
    "    lb = preprocessing.LabelBinarizer()\n",
    "    lb.fit(range(10))\n",
    "    ret = lb.transform(x)\n",
    "    '''\n",
    "    \n",
    "    return ret\n",
    "    \n",
    "\n",
    "\"\"\"\n",
    "DON'T MODIFY ANYTHING IN THIS CELL THAT IS BELOW THIS LINE\n",
    "\"\"\"\n",
    "tests.test_one_hot_encode(one_hot_encode)"
   ]
  },
  {
   "cell_type": "markdown",
   "metadata": {},
   "source": [
    "### Randomize Data\n",
    "As you saw from exploring the data above, the order of the samples are randomized.  It doesn't hurt to randomize it again, but you don't need to for this dataset."
   ]
  },
  {
   "cell_type": "markdown",
   "metadata": {},
   "source": [
    "## Preprocess all the data and save it\n",
    "Running the code cell below will preprocess all the CIFAR-10 data and save it to file. The code below also uses 10% of the training data for validation."
   ]
  },
  {
   "cell_type": "code",
   "execution_count": 9,
   "metadata": {},
   "outputs": [],
   "source": [
    "\"\"\"\n",
    "DON'T MODIFY ANYTHING IN THIS CELL\n",
    "\"\"\"\n",
    "# Preprocess Training, Validation, and Testing Data\n",
    "helper.preprocess_and_save_data(cifar10_dataset_folder_path, normalize, one_hot_encode)"
   ]
  },
  {
   "cell_type": "markdown",
   "metadata": {},
   "source": [
    "# Check Point\n",
    "This is your first checkpoint.  If you ever decide to come back to this notebook or have to restart the notebook, you can start from here.  The preprocessed data has been saved to disk."
   ]
  },
  {
   "cell_type": "code",
   "execution_count": 10,
   "metadata": {
    "collapsed": true
   },
   "outputs": [],
   "source": [
    "\"\"\"\n",
    "DON'T MODIFY ANYTHING IN THIS CELL\n",
    "\"\"\"\n",
    "import pickle\n",
    "import problem_unittests as tests\n",
    "import helper\n",
    "\n",
    "# Load the Preprocessed Validation data\n",
    "valid_features, valid_labels = pickle.load(open('preprocess_validation.p', mode='rb'))"
   ]
  },
  {
   "cell_type": "markdown",
   "metadata": {},
   "source": [
    "## Build the network\n",
    "For the neural network, you'll build each layer into a function.  Most of the code you've seen has been outside of functions. To test your code more thoroughly, we require that you put each layer in a function.  This allows us to give you better feedback and test for simple mistakes using our unittests before you submit your project.\n",
    "\n",
    "If you're finding it hard to dedicate enough time for this course a week, we've provided a small shortcut to this part of the project. In the next couple of problems, you'll have the option to use [TensorFlow Layers](https://www.tensorflow.org/api_docs/python/tf/layers) or [TensorFlow Layers (contrib)](https://www.tensorflow.org/api_guides/python/contrib.layers) to build each layer, except \"Convolutional & Max Pooling\" layer.  TF Layers is similar to Keras's and TFLearn's abstraction to layers, so it's easy to pickup.\n",
    "\n",
    "If you would like to get the most of this course, try to solve all the problems without TF Layers.  Let's begin!\n",
    "### Input\n",
    "The neural network needs to read the image data, one-hot encoded labels, and dropout keep probability. Implement the following functions\n",
    "* Implement `neural_net_image_input`\n",
    " * Return a [TF Placeholder](https://www.tensorflow.org/api_docs/python/tf/placeholder)\n",
    " * Set the shape using `image_shape` with batch size set to `None`.\n",
    " * Name the TensorFlow placeholder \"x\" using the TensorFlow `name` parameter in the [TF Placeholder](https://www.tensorflow.org/api_docs/python/tf/placeholder).\n",
    "* Implement `neural_net_label_input`\n",
    " * Return a [TF Placeholder](https://www.tensorflow.org/api_docs/python/tf/placeholder)\n",
    " * Set the shape using `n_classes` with batch size set to `None`.\n",
    " * Name the TensorFlow placeholder \"y\" using the TensorFlow `name` parameter in the [TF Placeholder](https://www.tensorflow.org/api_docs/python/tf/placeholder).\n",
    "* Implement `neural_net_keep_prob_input`\n",
    " * Return a [TF Placeholder](https://www.tensorflow.org/api_docs/python/tf/placeholder) for dropout keep probability.\n",
    " * Name the TensorFlow placeholder \"keep_prob\" using the TensorFlow `name` parameter in the [TF Placeholder](https://www.tensorflow.org/api_docs/python/tf/placeholder).\n",
    "\n",
    "These names will be used at the end of the project to load your saved model.\n",
    "\n",
    "Note: `None` for shapes in TensorFlow allow for a dynamic size."
   ]
  },
  {
   "cell_type": "code",
   "execution_count": 11,
   "metadata": {},
   "outputs": [
    {
     "name": "stdout",
     "output_type": "stream",
     "text": [
      "Image Input Tests Passed.\n",
      "Label Input Tests Passed.\n",
      "Keep Prob Tests Passed.\n"
     ]
    }
   ],
   "source": [
    "import tensorflow as tf\n",
    "\n",
    "def neural_net_image_input(image_shape):\n",
    "    \"\"\"\n",
    "    Return a Tensor for a bach of image input\n",
    "    : image_shape: Shape of the images\n",
    "    : return: Tensor for image input.\n",
    "    \"\"\"\n",
    "    # TODO: Implement Function\n",
    "    x = tf.placeholder(tf.float32, shape=[None, image_shape[0], image_shape[1], image_shape[2]], name='x')\n",
    "    return x\n",
    "\n",
    "\n",
    "def neural_net_label_input(n_classes):\n",
    "    \"\"\"\n",
    "    Return a Tensor for a batch of label input\n",
    "    : n_classes: Number of classes\n",
    "    : return: Tensor for label input.\n",
    "    \"\"\"\n",
    "    # TODO: Implement Function\n",
    "    y = tf.placeholder(tf.float32, shape=[None, n_classes], name='y')\n",
    "    return y\n",
    "\n",
    "\n",
    "def neural_net_keep_prob_input():\n",
    "    \"\"\"\n",
    "    Return a Tensor for keep probability\n",
    "    : return: Tensor for keep probability.\n",
    "    \"\"\"\n",
    "    # TODO: Implement Function\n",
    "    return tf.placeholder(tf.float32, name='keep_prob')\n",
    "\n",
    "\n",
    "\"\"\"\n",
    "DON'T MODIFY ANYTHING IN THIS CELL THAT IS BELOW THIS LINE\n",
    "\"\"\"\n",
    "tf.reset_default_graph()\n",
    "tests.test_nn_image_inputs(neural_net_image_input)\n",
    "tests.test_nn_label_inputs(neural_net_label_input)\n",
    "tests.test_nn_keep_prob_inputs(neural_net_keep_prob_input)"
   ]
  },
  {
   "cell_type": "markdown",
   "metadata": {},
   "source": [
    "### Convolution and Max Pooling Layer\n",
    "Convolution layers have a lot of success with images. For this code cell, you should implement the function `conv2d_maxpool` to apply convolution then max pooling:\n",
    "* Create the weight and bias using `conv_ksize`, `conv_num_outputs` and the shape of `x_tensor`.\n",
    "* Apply a convolution to `x_tensor` using weight and `conv_strides`.\n",
    " * We recommend you use same padding, but you're welcome to use any padding.\n",
    "* Add bias\n",
    "* Add a nonlinear activation to the convolution.\n",
    "* Apply Max Pooling using `pool_ksize` and `pool_strides`.\n",
    " * We recommend you use same padding, but you're welcome to use any padding.\n",
    "\n",
    "Note: You **can't** use [TensorFlow Layers](https://www.tensorflow.org/api_docs/python/tf/layers) or [TensorFlow Layers (contrib)](https://www.tensorflow.org/api_guides/python/contrib.layers) for this layer.  You're free to use any TensorFlow package for all the other layers."
   ]
  },
  {
   "cell_type": "code",
   "execution_count": 513,
   "metadata": {},
   "outputs": [
    {
     "name": "stdout",
     "output_type": "stream",
     "text": [
      "Tests Passed\n"
     ]
    }
   ],
   "source": [
    "def conv2d_maxpool(x_tensor, conv_num_outputs, conv_ksize, conv_strides, pool_ksize, pool_strides):\n",
    "    \"\"\"\n",
    "    Apply convolution then max pooling to x_tensor\n",
    "    :param x_tensor: TensorFlow Tensor\n",
    "    :param conv_num_outputs: Number of outputs for the convolutional layer\n",
    "    :param conv_strides: Stride 2-D Tuple for convolution\n",
    "    :param pool_ksize: kernal size 2-D Tuple for pool\n",
    "    :param pool_strides: Stride 2-D Tuple for pool\n",
    "    : return: A tensor that represents convolution and max pooling of x_tensor\n",
    "    \"\"\"\n",
    "    # TODO: Implement Function\n",
    "    padding = 'SAME'\n",
    "    w = tf.Variable(tf.truncated_normal([conv_ksize[0], conv_ksize[1], x_tensor.get_shape().as_list()[3],\n",
    "                                         conv_num_outputs], stddev=0.01))\n",
    "    b = tf.Variable(tf.zeros(conv_num_outputs))\n",
    "    conv2d_layer = tf.add(tf.nn.conv2d(x_tensor, w, [1, conv_strides[0], conv_strides[1], 1], padding), b)\n",
    "    conv2d_layer = tf.nn.relu(conv2d_layer)\n",
    "    pool_layer = tf.nn.max_pool(conv2d_layer, [1, pool_ksize[0], pool_ksize[1], 1], \n",
    "                                [1, pool_strides[0] , pool_strides[1], 1], padding)\n",
    "    return pool_layer\n",
    "\n",
    "\n",
    "\"\"\"\n",
    "DON'T MODIFY ANYTHING IN THIS CELL THAT IS BELOW THIS LINE\n",
    "\"\"\"\n",
    "tests.test_con_pool(conv2d_maxpool)"
   ]
  },
  {
   "cell_type": "markdown",
   "metadata": {},
   "source": [
    "### Flatten Layer\n",
    "Implement the `flatten` function to change the dimension of `x_tensor` from a 4-D tensor to a 2-D tensor.  The output should be the shape (*Batch Size*, *Flattened Image Size*). You can use [TensorFlow Layers](https://www.tensorflow.org/api_docs/python/tf/layers) or [TensorFlow Layers (contrib)](https://www.tensorflow.org/api_guides/python/contrib.layers) for this layer."
   ]
  },
  {
   "cell_type": "code",
   "execution_count": 424,
   "metadata": {},
   "outputs": [
    {
     "name": "stdout",
     "output_type": "stream",
     "text": [
      "Tests Passed\n"
     ]
    }
   ],
   "source": [
    "def flatten(x_tensor):\n",
    "    \"\"\"\n",
    "    Flatten x_tensor to (Batch Size, Flattened Image Size)\n",
    "    : x_tensor: A tensor of size (Batch Size, ...), where ... are the image dimensions.\n",
    "    : return: A tensor of size (Batch Size, Flattened Image Size).\n",
    "    \"\"\"\n",
    "    # TODO: Implement Function\n",
    "    x_shape = x_tensor.get_shape().as_list()\n",
    "    return tf.reshape(x_tensor, [-1, x_shape[1]*x_shape[2]*x_shape[3]])\n",
    "\n",
    "\n",
    "\"\"\"\n",
    "DON'T MODIFY ANYTHING IN THIS CELL THAT IS BELOW THIS LINE\n",
    "\"\"\"\n",
    "tests.test_flatten(flatten)"
   ]
  },
  {
   "cell_type": "markdown",
   "metadata": {},
   "source": [
    "### Fully-Connected Layer\n",
    "Implement the `fully_conn` function to apply a fully connected layer to `x_tensor` with the shape (*Batch Size*, *num_outputs*). You can use [TensorFlow Layers](https://www.tensorflow.org/api_docs/python/tf/layers) or [TensorFlow Layers (contrib)](https://www.tensorflow.org/api_guides/python/contrib.layers) for this layer."
   ]
  },
  {
   "cell_type": "code",
   "execution_count": 514,
   "metadata": {},
   "outputs": [
    {
     "name": "stdout",
     "output_type": "stream",
     "text": [
      "Tests Passed\n"
     ]
    }
   ],
   "source": [
    "def fully_conn(x_tensor, num_outputs):\n",
    "    \"\"\"\n",
    "    Apply a fully connected layer to x_tensor using weight and bias\n",
    "    : x_tensor: A 2-D tensor where the first dimension is batch size.\n",
    "    : num_outputs: The number of output that the new tensor should be.\n",
    "    : return: A 2-D tensor where the second dimension is num_outputs.\n",
    "    \"\"\"\n",
    "    # TODO: Implement Function\n",
    "    w = tf.Variable(tf.truncated_normal([x_tensor.get_shape().as_list()[1], num_outputs],\n",
    "                                        stddev=0.01))\n",
    "    b = tf.Variable(tf.zeros(num_outputs))\n",
    "    return tf.nn.relu(tf.add(tf.matmul(x_tensor, w), b))\n",
    "\n",
    "\n",
    "\"\"\"\n",
    "DON'T MODIFY ANYTHING IN THIS CELL THAT IS BELOW THIS LINE\n",
    "\"\"\"\n",
    "tests.test_fully_conn(fully_conn)"
   ]
  },
  {
   "cell_type": "markdown",
   "metadata": {},
   "source": [
    "### Output Layer\n",
    "Implement the `output` function to apply a fully connected layer to `x_tensor` with the shape (*Batch Size*, *num_outputs*). You can use [TensorFlow Layers](https://www.tensorflow.org/api_docs/python/tf/layers) or [TensorFlow Layers (contrib)](https://www.tensorflow.org/api_guides/python/contrib.layers) for this layer.\n",
    "\n",
    "Note: Activation, softmax, or cross entropy shouldn't be applied to this."
   ]
  },
  {
   "cell_type": "code",
   "execution_count": 507,
   "metadata": {},
   "outputs": [
    {
     "name": "stdout",
     "output_type": "stream",
     "text": [
      "Tests Passed\n"
     ]
    }
   ],
   "source": [
    "def output(x_tensor, num_outputs):\n",
    "    \"\"\"\n",
    "    Apply a output layer to x_tensor using weight and bias\n",
    "    : x_tensor: A 2-D tensor where the first dimension is batch size.\n",
    "    : num_outputs: The number of output that the new tensor should be.\n",
    "    : return: A 2-D tensor where the second dimension is num_outputs.\n",
    "    \"\"\"\n",
    "    # TODO: Implement Function\n",
    "    w = tf.Variable(tf.truncated_normal([x_tensor.get_shape().as_list()[1], num_outputs], stddev=0.01))\n",
    "    b = tf.Variable(tf.zeros(num_outputs))\n",
    "    return tf.add(tf.matmul(x_tensor, w), b)\n",
    "\n",
    "\n",
    "\"\"\"\n",
    "DON'T MODIFY ANYTHING IN THIS CELL THAT IS BELOW THIS LINE\n",
    "\"\"\"\n",
    "tests.test_output(output)"
   ]
  },
  {
   "cell_type": "markdown",
   "metadata": {},
   "source": [
    "### Create Convolutional Model\n",
    "Implement the function `conv_net` to create a convolutional neural network model. The function takes in a batch of images, `x`, and outputs logits.  Use the layers you created above to create this model:\n",
    "\n",
    "* Apply 1, 2, or 3 Convolution and Max Pool layers\n",
    "* Apply a Flatten Layer\n",
    "* Apply 1, 2, or 3 Fully Connected Layers\n",
    "* Apply an Output Layer\n",
    "* Return the output\n",
    "* Apply [TensorFlow's Dropout](https://www.tensorflow.org/api_docs/python/tf/nn/dropout) to one or more layers in the model using `keep_prob`. "
   ]
  },
  {
   "cell_type": "code",
   "execution_count": 537,
   "metadata": {},
   "outputs": [
    {
     "name": "stdout",
     "output_type": "stream",
     "text": [
      "Neural Network Built!\n"
     ]
    }
   ],
   "source": [
    "def conv_net(x, keep_prob):\n",
    "    \"\"\"\n",
    "    Create a convolutional neural network model\n",
    "    : x: Placeholder tensor that holds image data.\n",
    "    : keep_prob: Placeholder tensor that hold dropout keep probability.\n",
    "    : return: Tensor that represents logits\n",
    "    \"\"\"\n",
    "    # TODO: Apply 1, 2, or 3 Convolution and Max Pool layers\n",
    "    #    Play around with different number of outputs, kernel size and stride\n",
    "    # Function Definition from Above:\n",
    "    #    conv2d_maxpool(x_tensor, conv_num_outputs, conv_ksize, conv_strides, pool_ksize, pool_strides)\n",
    "    conv_layer = conv2d_maxpool(x, 192, (5, 5), (1, 1), (3, 3), (2, 2))\n",
    "    conv_layer = conv2d_maxpool(conv_layer, 256, (3, 3), (1, 1), (3, 3), (2, 2))\n",
    "    #conv_layer = conv2d_maxpool(conv_layer, 64, (1, 1), (1, 1), (3, 3), (2, 2))\n",
    "\n",
    "    \n",
    "    # TODO: Apply a Flatten Layer\n",
    "    # Function Definition from Above:\n",
    "    #   flatten(x_tensor)\n",
    "    flatten_layer = flatten(conv_layer)\n",
    "    #flatten_layer = tf.nn.dropout(flatten_layer, keep_prob)\n",
    "    \n",
    "    # TODO: Apply 1, 2, or 3 Fully Connected Layers\n",
    "    #    Play around with different number of outputs\n",
    "    # Function Definition from Above:\n",
    "    #   fully_conn(x_tensor, num_outputs)\n",
    "    fully_conn_layer = fully_conn(flatten_layer, 512)\n",
    "    fully_conn_layer = tf.nn.dropout(fully_conn_layer, keep_prob)\n",
    "    \n",
    "    \n",
    "    # TODO: Apply an Output Layer\n",
    "    #    Set this to the number of classes\n",
    "    # Function Definition from Above:\n",
    "    #   output(x_tensor, num_outputs)\n",
    "    output_layer = output(fully_conn_layer, 10)\n",
    "    \n",
    "    # TODO: return output\n",
    "    return output_layer\n",
    "\n",
    "\n",
    "\"\"\"\n",
    "DON'T MODIFY ANYTHING IN THIS CELL THAT IS BELOW THIS LINE\n",
    "\"\"\"\n",
    "\n",
    "##############################\n",
    "## Build the Neural Network ##\n",
    "##############################\n",
    "\n",
    "# Remove previous weights, bias, inputs, etc..\n",
    "tf.reset_default_graph()\n",
    "\n",
    "# Inputs\n",
    "x = neural_net_image_input((32, 32, 3))\n",
    "y = neural_net_label_input(10)\n",
    "keep_prob = neural_net_keep_prob_input()\n",
    "\n",
    "# Model\n",
    "logits = conv_net(x, keep_prob)\n",
    "\n",
    "# Name logits Tensor, so that is can be loaded from disk after training\n",
    "logits = tf.identity(logits, name='logits')\n",
    "\n",
    "# Loss and Optimizer\n",
    "cost = tf.reduce_mean(tf.nn.softmax_cross_entropy_with_logits(logits=logits, labels=y))\n",
    "optimizer = tf.train.AdamOptimizer().minimize(cost)\n",
    "\n",
    "# Accuracy\n",
    "correct_pred = tf.equal(tf.argmax(logits, 1), tf.argmax(y, 1))\n",
    "accuracy = tf.reduce_mean(tf.cast(correct_pred, tf.float32), name='accuracy')\n",
    "\n",
    "tests.test_conv_net(conv_net)"
   ]
  },
  {
   "cell_type": "markdown",
   "metadata": {},
   "source": [
    "## Train the Neural Network\n",
    "### Single Optimization\n",
    "Implement the function `train_neural_network` to do a single optimization.  The optimization should use `optimizer` to optimize in `session` with a `feed_dict` of the following:\n",
    "* `x` for image input\n",
    "* `y` for labels\n",
    "* `keep_prob` for keep probability for dropout\n",
    "\n",
    "This function will be called for each batch, so `tf.global_variables_initializer()` has already been called.\n",
    "\n",
    "Note: Nothing needs to be returned. This function is only optimizing the neural network."
   ]
  },
  {
   "cell_type": "code",
   "execution_count": 33,
   "metadata": {},
   "outputs": [
    {
     "name": "stdout",
     "output_type": "stream",
     "text": [
      "Tests Passed\n"
     ]
    }
   ],
   "source": [
    "def train_neural_network(session, optimizer, keep_probability, feature_batch, label_batch):\n",
    "    \"\"\"\n",
    "    Optimize the session on a batch of images and labels\n",
    "    : session: Current TensorFlow session\n",
    "    : optimizer: TensorFlow optimizer function\n",
    "    : keep_probability: keep probability\n",
    "    : feature_batch: Batch of Numpy image data\n",
    "    : label_batch: Batch of Numpy label data\n",
    "    \"\"\"\n",
    "    # TODO: Implement Function\n",
    "    session.run(optimizer, feed_dict={\n",
    "            x: feature_batch,\n",
    "            y: label_batch,\n",
    "            keep_prob: keep_probability})\n",
    "    pass\n",
    "\n",
    "\n",
    "\"\"\"\n",
    "DON'T MODIFY ANYTHING IN THIS CELL THAT IS BELOW THIS LINE\n",
    "\"\"\"\n",
    "tests.test_train_nn(train_neural_network)"
   ]
  },
  {
   "cell_type": "markdown",
   "metadata": {},
   "source": [
    "### Show Stats\n",
    "Implement the function `print_stats` to print loss and validation accuracy.  Use the global variables `valid_features` and `valid_labels` to calculate validation accuracy.  Use a keep probability of `1.0` to calculate the loss and validation accuracy."
   ]
  },
  {
   "cell_type": "code",
   "execution_count": 465,
   "metadata": {},
   "outputs": [],
   "source": [
    "def print_stats(session, feature_batch, label_batch, cost, accuracy):\n",
    "    \"\"\"\n",
    "    Print information about loss and validation accuracy\n",
    "    : session: Current TensorFlow session\n",
    "    : feature_batch: Batch of Numpy image data\n",
    "    : label_batch: Batch of Numpy label data\n",
    "    : cost: TensorFlow cost function\n",
    "    : accuracy: TensorFlow accuracy function\n",
    "    \"\"\"\n",
    "    # TODO: Implement Function\n",
    "    loss = session.run(cost, feed_dict={\n",
    "            x: feature_batch,\n",
    "            y: label_batch,\n",
    "            keep_prob: 1.})\n",
    "    \n",
    "    train_acc = session.run(accuracy, feed_dict={\n",
    "            x: feature_batch,\n",
    "            y: label_batch,\n",
    "            keep_prob: 1.})\n",
    "    \n",
    "    #For reduce memery cost when calculate valid_acc\n",
    "    valid_acc = 0\n",
    "    valid_m = len(valid_labels)\n",
    "    valid_batch = 1000\n",
    "    for start in range(0, valid_m, valid_batch):\n",
    "        end = min(start + valid_batch, valid_m)\n",
    "        valid_acc += session.run(accuracy, feed_dict={\n",
    "                x: valid_features[start:end],\n",
    "                y: valid_labels[start:end],\n",
    "                keep_prob: 1.})\n",
    "    assert valid_m%valid_batch == 0\n",
    "    valid_acc = valid_acc/(valid_m/valid_batch)\n",
    "    \n",
    "    '''\n",
    "    valid_acc = session.run(accuracy, feed_dict={\n",
    "        x: valid_features,\n",
    "        y: valid_labels,\n",
    "        keep_prob: 1.})\n",
    "    '''\n",
    "    \n",
    "    print('Loss: {:>8.4f} Train Accuracy: {:.6f} Validation Accuracy: {:.6f}'.format(\n",
    "            loss, train_acc, valid_acc))\n",
    "    "
   ]
  },
  {
   "cell_type": "markdown",
   "metadata": {},
   "source": [
    "### Hyperparameters\n",
    "Tune the following parameters:\n",
    "* Set `epochs` to the number of iterations until the network stops learning or start overfitting\n",
    "* Set `batch_size` to the highest number that your machine has memory for.  Most people set them to common sizes of memory:\n",
    " * 64\n",
    " * 128\n",
    " * 256\n",
    " * ...\n",
    "* Set `keep_probability` to the probability of keeping a node using dropout"
   ]
  },
  {
   "cell_type": "code",
   "execution_count": 541,
   "metadata": {
    "collapsed": true
   },
   "outputs": [],
   "source": [
    "# TODO: Tune Parameters\n",
    "epochs = 30\n",
    "batch_size = 128\n",
    "keep_probability = 0.4"
   ]
  },
  {
   "cell_type": "markdown",
   "metadata": {},
   "source": [
    "### Train on a Single CIFAR-10 Batch\n",
    "Instead of training the neural network on all the CIFAR-10 batches of data, let's use a single batch. This should save time while you iterate on the model to get a better accuracy.  Once the final validation accuracy is 50% or greater, run the model on all the data in the next section."
   ]
  },
  {
   "cell_type": "code",
   "execution_count": 542,
   "metadata": {},
   "outputs": [
    {
     "name": "stdout",
     "output_type": "stream",
     "text": [
      "Checking the Training on a Single Batch...\n",
      "Epoch  1, CIFAR-10 Batch 1:  Loss:   1.9833 Train Accuracy: 0.350000 Validation Accuracy: 0.368600\n",
      "Epoch  2, CIFAR-10 Batch 1:  Loss:   1.8338 Train Accuracy: 0.350000 Validation Accuracy: 0.411200\n",
      "Epoch  3, CIFAR-10 Batch 1:  Loss:   1.7506 Train Accuracy: 0.400000 Validation Accuracy: 0.436800\n",
      "Epoch  4, CIFAR-10 Batch 1:  Loss:   1.5450 Train Accuracy: 0.425000 Validation Accuracy: 0.478000\n",
      "Epoch  5, CIFAR-10 Batch 1:  Loss:   1.4126 Train Accuracy: 0.600000 Validation Accuracy: 0.486600\n",
      "Epoch  6, CIFAR-10 Batch 1:  Loss:   1.3364 Train Accuracy: 0.600000 Validation Accuracy: 0.513200\n",
      "Epoch  7, CIFAR-10 Batch 1:  Loss:   1.2150 Train Accuracy: 0.600000 Validation Accuracy: 0.530400\n",
      "Epoch  8, CIFAR-10 Batch 1:  Loss:   1.0768 Train Accuracy: 0.650000 Validation Accuracy: 0.535000\n",
      "Epoch  9, CIFAR-10 Batch 1:  Loss:   0.9473 Train Accuracy: 0.700000 Validation Accuracy: 0.557000\n",
      "Epoch 10, CIFAR-10 Batch 1:  Loss:   0.8902 Train Accuracy: 0.750000 Validation Accuracy: 0.566000\n",
      "Epoch 11, CIFAR-10 Batch 1:  Loss:   0.7209 Train Accuracy: 0.750000 Validation Accuracy: 0.579600\n",
      "Epoch 12, CIFAR-10 Batch 1:  Loss:   0.6900 Train Accuracy: 0.775000 Validation Accuracy: 0.577800\n",
      "Epoch 13, CIFAR-10 Batch 1:  Loss:   0.6000 Train Accuracy: 0.800000 Validation Accuracy: 0.581200\n",
      "Epoch 14, CIFAR-10 Batch 1:  Loss:   0.5127 Train Accuracy: 0.800000 Validation Accuracy: 0.587000\n",
      "Epoch 15, CIFAR-10 Batch 1:  Loss:   0.4601 Train Accuracy: 0.850000 Validation Accuracy: 0.579000\n",
      "Epoch 16, CIFAR-10 Batch 1:  Loss:   0.3617 Train Accuracy: 0.825000 Validation Accuracy: 0.612400\n",
      "Epoch 17, CIFAR-10 Batch 1:  Loss:   0.3183 Train Accuracy: 0.900000 Validation Accuracy: 0.622000\n",
      "Epoch 18, CIFAR-10 Batch 1:  Loss:   0.2766 Train Accuracy: 0.900000 Validation Accuracy: 0.612600\n",
      "Epoch 19, CIFAR-10 Batch 1:  Loss:   0.2399 Train Accuracy: 0.925000 Validation Accuracy: 0.624600\n",
      "Epoch 20, CIFAR-10 Batch 1:  Loss:   0.1948 Train Accuracy: 0.950000 Validation Accuracy: 0.622000\n",
      "Epoch 21, CIFAR-10 Batch 1:  Loss:   0.1677 Train Accuracy: 1.000000 Validation Accuracy: 0.630000\n",
      "Epoch 22, CIFAR-10 Batch 1:  Loss:   0.1413 Train Accuracy: 0.950000 Validation Accuracy: 0.624800\n",
      "Epoch 23, CIFAR-10 Batch 1:  Loss:   0.1353 Train Accuracy: 0.975000 Validation Accuracy: 0.622000\n",
      "Epoch 24, CIFAR-10 Batch 1:  Loss:   0.1023 Train Accuracy: 1.000000 Validation Accuracy: 0.617600\n",
      "Epoch 25, CIFAR-10 Batch 1:  Loss:   0.0783 Train Accuracy: 1.000000 Validation Accuracy: 0.642000\n",
      "Epoch 26, CIFAR-10 Batch 1:  Loss:   0.0799 Train Accuracy: 0.975000 Validation Accuracy: 0.639000\n",
      "Epoch 27, CIFAR-10 Batch 1:  Loss:   0.0677 Train Accuracy: 1.000000 Validation Accuracy: 0.605800\n",
      "Epoch 28, CIFAR-10 Batch 1:  Loss:   0.0534 Train Accuracy: 1.000000 Validation Accuracy: 0.622000\n",
      "Epoch 29, CIFAR-10 Batch 1:  Loss:   0.0681 Train Accuracy: 1.000000 Validation Accuracy: 0.631400\n",
      "Epoch 30, CIFAR-10 Batch 1:  Loss:   0.0510 Train Accuracy: 1.000000 Validation Accuracy: 0.624600\n"
     ]
    }
   ],
   "source": [
    "\"\"\"\n",
    "DON'T MODIFY ANYTHING IN THIS CELL\n",
    "\"\"\"\n",
    "print('Checking the Training on a Single Batch...')\n",
    "with tf.Session() as sess:\n",
    "    # Initializing the variables\n",
    "    sess.run(tf.global_variables_initializer())\n",
    "    \n",
    "    # Training cycle\n",
    "    for epoch in range(epochs):\n",
    "        batch_i = 1\n",
    "        for batch_features, batch_labels in helper.load_preprocess_training_batch(batch_i, batch_size):\n",
    "            train_neural_network(sess, optimizer, keep_probability, batch_features, batch_labels)\n",
    "        print('Epoch {:>2}, CIFAR-10 Batch {}:  '.format(epoch + 1, batch_i), end='')\n",
    "        print_stats(sess, batch_features, batch_labels, cost, accuracy)"
   ]
  },
  {
   "cell_type": "markdown",
   "metadata": {},
   "source": [
    "### Fully Train the Model\n",
    "Now that you got a good accuracy with a single CIFAR-10 batch, try it with all five batches."
   ]
  },
  {
   "cell_type": "code",
   "execution_count": 543,
   "metadata": {},
   "outputs": [
    {
     "name": "stdout",
     "output_type": "stream",
     "text": [
      "Training...\n",
      "Epoch  1, CIFAR-10 Batch 1:  Loss:   2.0009 Train Accuracy: 0.325000 Validation Accuracy: 0.379600\n",
      "Epoch  1, CIFAR-10 Batch 2:  Loss:   1.6703 Train Accuracy: 0.425000 Validation Accuracy: 0.403400\n",
      "Epoch  1, CIFAR-10 Batch 3:  Loss:   1.3999 Train Accuracy: 0.500000 Validation Accuracy: 0.431000\n",
      "Epoch  1, CIFAR-10 Batch 4:  Loss:   1.5675 Train Accuracy: 0.450000 Validation Accuracy: 0.471600\n",
      "Epoch  1, CIFAR-10 Batch 5:  Loss:   1.4861 Train Accuracy: 0.475000 Validation Accuracy: 0.486000\n",
      "Epoch  2, CIFAR-10 Batch 1:  Loss:   1.4982 Train Accuracy: 0.425000 Validation Accuracy: 0.492400\n",
      "Epoch  2, CIFAR-10 Batch 2:  Loss:   1.3277 Train Accuracy: 0.500000 Validation Accuracy: 0.505200\n",
      "Epoch  2, CIFAR-10 Batch 3:  Loss:   1.0572 Train Accuracy: 0.650000 Validation Accuracy: 0.544000\n",
      "Epoch  2, CIFAR-10 Batch 4:  Loss:   1.2188 Train Accuracy: 0.475000 Validation Accuracy: 0.543800\n",
      "Epoch  2, CIFAR-10 Batch 5:  Loss:   1.2152 Train Accuracy: 0.575000 Validation Accuracy: 0.588000\n",
      "Epoch  3, CIFAR-10 Batch 1:  Loss:   1.1738 Train Accuracy: 0.675000 Validation Accuracy: 0.584200\n",
      "Epoch  3, CIFAR-10 Batch 2:  Loss:   1.0283 Train Accuracy: 0.575000 Validation Accuracy: 0.597000\n",
      "Epoch  3, CIFAR-10 Batch 3:  Loss:   0.8290 Train Accuracy: 0.750000 Validation Accuracy: 0.604000\n",
      "Epoch  3, CIFAR-10 Batch 4:  Loss:   0.9978 Train Accuracy: 0.600000 Validation Accuracy: 0.621800\n",
      "Epoch  3, CIFAR-10 Batch 5:  Loss:   0.9554 Train Accuracy: 0.700000 Validation Accuracy: 0.631200\n",
      "Epoch  4, CIFAR-10 Batch 1:  Loss:   0.9125 Train Accuracy: 0.675000 Validation Accuracy: 0.644000\n",
      "Epoch  4, CIFAR-10 Batch 2:  Loss:   0.8610 Train Accuracy: 0.700000 Validation Accuracy: 0.637600\n",
      "Epoch  4, CIFAR-10 Batch 3:  Loss:   0.6286 Train Accuracy: 0.825000 Validation Accuracy: 0.653800\n",
      "Epoch  4, CIFAR-10 Batch 4:  Loss:   0.7931 Train Accuracy: 0.700000 Validation Accuracy: 0.655400\n",
      "Epoch  4, CIFAR-10 Batch 5:  Loss:   0.7443 Train Accuracy: 0.775000 Validation Accuracy: 0.678600\n",
      "Epoch  5, CIFAR-10 Batch 1:  Loss:   0.7321 Train Accuracy: 0.725000 Validation Accuracy: 0.677400\n",
      "Epoch  5, CIFAR-10 Batch 2:  Loss:   0.7371 Train Accuracy: 0.725000 Validation Accuracy: 0.664600\n",
      "Epoch  5, CIFAR-10 Batch 3:  Loss:   0.4447 Train Accuracy: 0.900000 Validation Accuracy: 0.680600\n",
      "Epoch  5, CIFAR-10 Batch 4:  Loss:   0.6302 Train Accuracy: 0.725000 Validation Accuracy: 0.697400\n",
      "Epoch  5, CIFAR-10 Batch 5:  Loss:   0.5638 Train Accuracy: 0.850000 Validation Accuracy: 0.701000\n",
      "Epoch  6, CIFAR-10 Batch 1:  Loss:   0.6716 Train Accuracy: 0.750000 Validation Accuracy: 0.678200\n",
      "Epoch  6, CIFAR-10 Batch 2:  Loss:   0.5420 Train Accuracy: 0.825000 Validation Accuracy: 0.705800\n",
      "Epoch  6, CIFAR-10 Batch 3:  Loss:   0.3588 Train Accuracy: 0.925000 Validation Accuracy: 0.704800\n",
      "Epoch  6, CIFAR-10 Batch 4:  Loss:   0.4578 Train Accuracy: 0.875000 Validation Accuracy: 0.710000\n",
      "Epoch  6, CIFAR-10 Batch 5:  Loss:   0.4504 Train Accuracy: 0.925000 Validation Accuracy: 0.687400\n",
      "Epoch  7, CIFAR-10 Batch 1:  Loss:   0.4827 Train Accuracy: 0.800000 Validation Accuracy: 0.716000\n",
      "Epoch  7, CIFAR-10 Batch 2:  Loss:   0.4602 Train Accuracy: 0.850000 Validation Accuracy: 0.721200\n",
      "Epoch  7, CIFAR-10 Batch 3:  Loss:   0.2993 Train Accuracy: 0.950000 Validation Accuracy: 0.714400\n",
      "Epoch  7, CIFAR-10 Batch 4:  Loss:   0.3432 Train Accuracy: 0.900000 Validation Accuracy: 0.727200\n",
      "Epoch  7, CIFAR-10 Batch 5:  Loss:   0.3375 Train Accuracy: 0.950000 Validation Accuracy: 0.730000\n",
      "Epoch  8, CIFAR-10 Batch 1:  Loss:   0.4079 Train Accuracy: 0.800000 Validation Accuracy: 0.712200\n",
      "Epoch  8, CIFAR-10 Batch 2:  Loss:   0.3693 Train Accuracy: 0.950000 Validation Accuracy: 0.715000\n",
      "Epoch  8, CIFAR-10 Batch 3:  Loss:   0.2580 Train Accuracy: 0.975000 Validation Accuracy: 0.726800\n",
      "Epoch  8, CIFAR-10 Batch 4:  Loss:   0.3416 Train Accuracy: 0.900000 Validation Accuracy: 0.718200\n",
      "Epoch  8, CIFAR-10 Batch 5:  Loss:   0.2908 Train Accuracy: 0.925000 Validation Accuracy: 0.712800\n",
      "Epoch  9, CIFAR-10 Batch 1:  Loss:   0.3627 Train Accuracy: 0.900000 Validation Accuracy: 0.713400\n",
      "Epoch  9, CIFAR-10 Batch 2:  Loss:   0.3748 Train Accuracy: 0.900000 Validation Accuracy: 0.714800\n",
      "Epoch  9, CIFAR-10 Batch 3:  Loss:   0.2126 Train Accuracy: 1.000000 Validation Accuracy: 0.725400\n",
      "Epoch  9, CIFAR-10 Batch 4:  Loss:   0.2352 Train Accuracy: 0.950000 Validation Accuracy: 0.731000\n",
      "Epoch  9, CIFAR-10 Batch 5:  Loss:   0.2621 Train Accuracy: 0.950000 Validation Accuracy: 0.732400\n",
      "Epoch 10, CIFAR-10 Batch 1:  Loss:   0.2522 Train Accuracy: 0.950000 Validation Accuracy: 0.729200\n",
      "Epoch 10, CIFAR-10 Batch 2:  Loss:   0.2715 Train Accuracy: 0.950000 Validation Accuracy: 0.742200\n",
      "Epoch 10, CIFAR-10 Batch 3:  Loss:   0.2049 Train Accuracy: 0.950000 Validation Accuracy: 0.724800\n",
      "Epoch 10, CIFAR-10 Batch 4:  Loss:   0.1972 Train Accuracy: 0.950000 Validation Accuracy: 0.752600\n",
      "Epoch 10, CIFAR-10 Batch 5:  Loss:   0.1841 Train Accuracy: 0.975000 Validation Accuracy: 0.740200\n",
      "Epoch 11, CIFAR-10 Batch 1:  Loss:   0.2183 Train Accuracy: 0.925000 Validation Accuracy: 0.748400\n",
      "Epoch 11, CIFAR-10 Batch 2:  Loss:   0.2121 Train Accuracy: 0.950000 Validation Accuracy: 0.742400\n",
      "Epoch 11, CIFAR-10 Batch 3:  Loss:   0.1182 Train Accuracy: 1.000000 Validation Accuracy: 0.745000\n",
      "Epoch 11, CIFAR-10 Batch 4:  Loss:   0.1758 Train Accuracy: 0.975000 Validation Accuracy: 0.745600\n",
      "Epoch 11, CIFAR-10 Batch 5:  Loss:   0.1560 Train Accuracy: 0.975000 Validation Accuracy: 0.745800\n",
      "Epoch 12, CIFAR-10 Batch 1:  Loss:   0.2180 Train Accuracy: 0.900000 Validation Accuracy: 0.753400\n",
      "Epoch 12, CIFAR-10 Batch 2:  Loss:   0.1590 Train Accuracy: 0.975000 Validation Accuracy: 0.746000\n",
      "Epoch 12, CIFAR-10 Batch 3:  Loss:   0.1239 Train Accuracy: 0.975000 Validation Accuracy: 0.736200\n",
      "Epoch 12, CIFAR-10 Batch 4:  Loss:   0.1306 Train Accuracy: 1.000000 Validation Accuracy: 0.748400\n",
      "Epoch 12, CIFAR-10 Batch 5:  Loss:   0.1546 Train Accuracy: 1.000000 Validation Accuracy: 0.738000\n",
      "Epoch 13, CIFAR-10 Batch 1:  Loss:   0.1765 Train Accuracy: 0.950000 Validation Accuracy: 0.754600\n",
      "Epoch 13, CIFAR-10 Batch 2:  Loss:   0.1362 Train Accuracy: 0.950000 Validation Accuracy: 0.750800\n",
      "Epoch 13, CIFAR-10 Batch 3:  Loss:   0.1036 Train Accuracy: 0.975000 Validation Accuracy: 0.750000\n",
      "Epoch 13, CIFAR-10 Batch 4:  Loss:   0.1095 Train Accuracy: 1.000000 Validation Accuracy: 0.747400\n",
      "Epoch 13, CIFAR-10 Batch 5:  Loss:   0.1333 Train Accuracy: 0.975000 Validation Accuracy: 0.733400\n",
      "Epoch 14, CIFAR-10 Batch 1:  Loss:   0.1271 Train Accuracy: 1.000000 Validation Accuracy: 0.752000\n",
      "Epoch 14, CIFAR-10 Batch 2:  Loss:   0.1336 Train Accuracy: 0.975000 Validation Accuracy: 0.748400\n",
      "Epoch 14, CIFAR-10 Batch 3:  Loss:   0.1108 Train Accuracy: 0.975000 Validation Accuracy: 0.726000\n",
      "Epoch 14, CIFAR-10 Batch 4:  Loss:   0.0849 Train Accuracy: 0.975000 Validation Accuracy: 0.752200\n",
      "Epoch 14, CIFAR-10 Batch 5:  Loss:   0.0749 Train Accuracy: 1.000000 Validation Accuracy: 0.760000\n",
      "Epoch 15, CIFAR-10 Batch 1:  Loss:   0.1080 Train Accuracy: 1.000000 Validation Accuracy: 0.748000\n",
      "Epoch 15, CIFAR-10 Batch 2:  Loss:   0.0859 Train Accuracy: 0.975000 Validation Accuracy: 0.736600\n",
      "Epoch 15, CIFAR-10 Batch 3:  Loss:   0.0608 Train Accuracy: 1.000000 Validation Accuracy: 0.738600\n",
      "Epoch 15, CIFAR-10 Batch 4:  Loss:   0.1099 Train Accuracy: 1.000000 Validation Accuracy: 0.743400\n",
      "Epoch 15, CIFAR-10 Batch 5:  Loss:   0.0913 Train Accuracy: 1.000000 Validation Accuracy: 0.747000\n",
      "Epoch 16, CIFAR-10 Batch 1:  Loss:   0.0913 Train Accuracy: 0.975000 Validation Accuracy: 0.756800\n",
      "Epoch 16, CIFAR-10 Batch 2:  Loss:   0.0968 Train Accuracy: 0.950000 Validation Accuracy: 0.759000\n",
      "Epoch 16, CIFAR-10 Batch 3:  Loss:   0.0814 Train Accuracy: 1.000000 Validation Accuracy: 0.739200\n",
      "Epoch 16, CIFAR-10 Batch 4:  Loss:   0.0949 Train Accuracy: 1.000000 Validation Accuracy: 0.744800\n",
      "Epoch 16, CIFAR-10 Batch 5:  Loss:   0.0769 Train Accuracy: 1.000000 Validation Accuracy: 0.753800\n",
      "Epoch 17, CIFAR-10 Batch 1:  Loss:   0.0681 Train Accuracy: 1.000000 Validation Accuracy: 0.753600\n",
      "Epoch 17, CIFAR-10 Batch 2:  Loss:   0.0769 Train Accuracy: 0.950000 Validation Accuracy: 0.757000\n",
      "Epoch 17, CIFAR-10 Batch 3:  Loss:   0.0743 Train Accuracy: 1.000000 Validation Accuracy: 0.741400\n",
      "Epoch 17, CIFAR-10 Batch 4:  Loss:   0.0839 Train Accuracy: 1.000000 Validation Accuracy: 0.748600\n",
      "Epoch 17, CIFAR-10 Batch 5:  Loss:   0.0559 Train Accuracy: 1.000000 Validation Accuracy: 0.749400\n",
      "Epoch 18, CIFAR-10 Batch 1:  Loss:   0.0753 Train Accuracy: 1.000000 Validation Accuracy: 0.752800\n",
      "Epoch 18, CIFAR-10 Batch 2:  Loss:   0.0887 Train Accuracy: 0.950000 Validation Accuracy: 0.747200\n",
      "Epoch 18, CIFAR-10 Batch 3:  Loss:   0.0617 Train Accuracy: 1.000000 Validation Accuracy: 0.734400\n",
      "Epoch 18, CIFAR-10 Batch 4:  Loss:   0.0530 Train Accuracy: 1.000000 Validation Accuracy: 0.753800\n",
      "Epoch 18, CIFAR-10 Batch 5:  Loss:   0.0218 Train Accuracy: 1.000000 Validation Accuracy: 0.754600\n",
      "Epoch 19, CIFAR-10 Batch 1:  Loss:   0.0551 Train Accuracy: 1.000000 Validation Accuracy: 0.748800\n",
      "Epoch 19, CIFAR-10 Batch 2:  Loss:   0.0658 Train Accuracy: 0.975000 Validation Accuracy: 0.763000\n",
      "Epoch 19, CIFAR-10 Batch 3:  Loss:   0.0534 Train Accuracy: 1.000000 Validation Accuracy: 0.754200\n",
      "Epoch 19, CIFAR-10 Batch 4:  Loss:   0.0621 Train Accuracy: 0.975000 Validation Accuracy: 0.749000\n",
      "Epoch 19, CIFAR-10 Batch 5:  Loss:   0.0298 Train Accuracy: 1.000000 Validation Accuracy: 0.750800\n",
      "Epoch 20, CIFAR-10 Batch 1:  Loss:   0.0454 Train Accuracy: 1.000000 Validation Accuracy: 0.754400\n",
      "Epoch 20, CIFAR-10 Batch 2:  Loss:   0.0393 Train Accuracy: 0.975000 Validation Accuracy: 0.755000\n",
      "Epoch 20, CIFAR-10 Batch 3:  Loss:   0.0478 Train Accuracy: 1.000000 Validation Accuracy: 0.755400\n",
      "Epoch 20, CIFAR-10 Batch 4:  Loss:   0.0570 Train Accuracy: 1.000000 Validation Accuracy: 0.757800\n",
      "Epoch 20, CIFAR-10 Batch 5:  Loss:   0.0220 Train Accuracy: 1.000000 Validation Accuracy: 0.749400\n",
      "Epoch 21, CIFAR-10 Batch 1:  Loss:   0.0456 Train Accuracy: 1.000000 Validation Accuracy: 0.750600\n",
      "Epoch 21, CIFAR-10 Batch 2:  Loss:   0.0317 Train Accuracy: 1.000000 Validation Accuracy: 0.758800\n",
      "Epoch 21, CIFAR-10 Batch 3:  Loss:   0.0438 Train Accuracy: 1.000000 Validation Accuracy: 0.746800\n",
      "Epoch 21, CIFAR-10 Batch 4:  Loss:   0.0547 Train Accuracy: 1.000000 Validation Accuracy: 0.752000\n",
      "Epoch 21, CIFAR-10 Batch 5:  Loss:   0.0196 Train Accuracy: 1.000000 Validation Accuracy: 0.757600\n",
      "Epoch 22, CIFAR-10 Batch 1:  Loss:   0.0366 Train Accuracy: 1.000000 Validation Accuracy: 0.762800\n",
      "Epoch 22, CIFAR-10 Batch 2:  Loss:   0.0395 Train Accuracy: 0.975000 Validation Accuracy: 0.768000\n",
      "Epoch 22, CIFAR-10 Batch 3:  Loss:   0.0195 Train Accuracy: 1.000000 Validation Accuracy: 0.746600\n",
      "Epoch 22, CIFAR-10 Batch 4:  Loss:   0.0226 Train Accuracy: 1.000000 Validation Accuracy: 0.761400\n",
      "Epoch 22, CIFAR-10 Batch 5:  Loss:   0.0130 Train Accuracy: 1.000000 Validation Accuracy: 0.758600\n",
      "Epoch 23, CIFAR-10 Batch 1:  Loss:   0.0320 Train Accuracy: 1.000000 Validation Accuracy: 0.763000\n",
      "Epoch 23, CIFAR-10 Batch 2:  Loss:   0.0402 Train Accuracy: 0.975000 Validation Accuracy: 0.759200\n",
      "Epoch 23, CIFAR-10 Batch 3:  Loss:   0.0250 Train Accuracy: 1.000000 Validation Accuracy: 0.751600\n",
      "Epoch 23, CIFAR-10 Batch 4:  Loss:   0.0261 Train Accuracy: 1.000000 Validation Accuracy: 0.761000\n",
      "Epoch 23, CIFAR-10 Batch 5:  Loss:   0.0094 Train Accuracy: 1.000000 Validation Accuracy: 0.758800\n",
      "Epoch 24, CIFAR-10 Batch 1:  Loss:   0.0530 Train Accuracy: 1.000000 Validation Accuracy: 0.756800\n",
      "Epoch 24, CIFAR-10 Batch 2:  Loss:   0.0240 Train Accuracy: 1.000000 Validation Accuracy: 0.758600\n",
      "Epoch 24, CIFAR-10 Batch 3:  Loss:   0.0112 Train Accuracy: 1.000000 Validation Accuracy: 0.757000\n",
      "Epoch 24, CIFAR-10 Batch 4:  Loss:   0.0285 Train Accuracy: 1.000000 Validation Accuracy: 0.750600\n",
      "Epoch 24, CIFAR-10 Batch 5:  Loss:   0.0073 Train Accuracy: 1.000000 Validation Accuracy: 0.757600\n",
      "Epoch 25, CIFAR-10 Batch 1:  Loss:   0.0374 Train Accuracy: 1.000000 Validation Accuracy: 0.758000\n",
      "Epoch 25, CIFAR-10 Batch 2:  Loss:   0.0130 Train Accuracy: 1.000000 Validation Accuracy: 0.759400\n",
      "Epoch 25, CIFAR-10 Batch 3:  Loss:   0.0137 Train Accuracy: 1.000000 Validation Accuracy: 0.756800\n",
      "Epoch 25, CIFAR-10 Batch 4:  Loss:   0.0222 Train Accuracy: 1.000000 Validation Accuracy: 0.762800\n",
      "Epoch 25, CIFAR-10 Batch 5:  Loss:   0.0081 Train Accuracy: 1.000000 Validation Accuracy: 0.754800\n",
      "Epoch 26, CIFAR-10 Batch 1:  Loss:   0.0254 Train Accuracy: 1.000000 Validation Accuracy: 0.762600\n",
      "Epoch 26, CIFAR-10 Batch 2:  Loss:   0.0213 Train Accuracy: 1.000000 Validation Accuracy: 0.752200\n",
      "Epoch 26, CIFAR-10 Batch 3:  Loss:   0.0132 Train Accuracy: 1.000000 Validation Accuracy: 0.743000\n",
      "Epoch 26, CIFAR-10 Batch 4:  Loss:   0.0180 Train Accuracy: 1.000000 Validation Accuracy: 0.768200\n",
      "Epoch 26, CIFAR-10 Batch 5:  Loss:   0.0057 Train Accuracy: 1.000000 Validation Accuracy: 0.744000\n",
      "Epoch 27, CIFAR-10 Batch 1:  Loss:   0.0155 Train Accuracy: 1.000000 Validation Accuracy: 0.755400\n",
      "Epoch 27, CIFAR-10 Batch 2:  Loss:   0.0100 Train Accuracy: 1.000000 Validation Accuracy: 0.770400\n",
      "Epoch 27, CIFAR-10 Batch 3:  Loss:   0.0176 Train Accuracy: 1.000000 Validation Accuracy: 0.745400\n",
      "Epoch 27, CIFAR-10 Batch 4:  Loss:   0.0133 Train Accuracy: 1.000000 Validation Accuracy: 0.752400\n",
      "Epoch 27, CIFAR-10 Batch 5:  Loss:   0.0070 Train Accuracy: 1.000000 Validation Accuracy: 0.764000\n",
      "Epoch 28, CIFAR-10 Batch 1:  Loss:   0.0132 Train Accuracy: 1.000000 Validation Accuracy: 0.755200\n",
      "Epoch 28, CIFAR-10 Batch 2:  Loss:   0.0189 Train Accuracy: 1.000000 Validation Accuracy: 0.756200\n",
      "Epoch 28, CIFAR-10 Batch 3:  Loss:   0.0131 Train Accuracy: 1.000000 Validation Accuracy: 0.744400\n",
      "Epoch 28, CIFAR-10 Batch 4:  Loss:   0.0226 Train Accuracy: 1.000000 Validation Accuracy: 0.758400\n",
      "Epoch 28, CIFAR-10 Batch 5:  Loss:   0.0215 Train Accuracy: 1.000000 Validation Accuracy: 0.742600\n",
      "Epoch 29, CIFAR-10 Batch 1:  Loss:   0.0182 Train Accuracy: 1.000000 Validation Accuracy: 0.748600\n",
      "Epoch 29, CIFAR-10 Batch 2:  Loss:   0.0142 Train Accuracy: 1.000000 Validation Accuracy: 0.746000\n",
      "Epoch 29, CIFAR-10 Batch 3:  Loss:   0.0114 Train Accuracy: 1.000000 Validation Accuracy: 0.746600\n",
      "Epoch 29, CIFAR-10 Batch 4:  Loss:   0.0454 Train Accuracy: 0.975000 Validation Accuracy: 0.750800\n",
      "Epoch 29, CIFAR-10 Batch 5:  Loss:   0.0053 Train Accuracy: 1.000000 Validation Accuracy: 0.753600\n",
      "Epoch 30, CIFAR-10 Batch 1:  Loss:   0.0138 Train Accuracy: 1.000000 Validation Accuracy: 0.748600\n",
      "Epoch 30, CIFAR-10 Batch 2:  Loss:   0.0076 Train Accuracy: 1.000000 Validation Accuracy: 0.755200\n",
      "Epoch 30, CIFAR-10 Batch 3:  Loss:   0.0102 Train Accuracy: 1.000000 Validation Accuracy: 0.759200\n",
      "Epoch 30, CIFAR-10 Batch 4:  Loss:   0.0171 Train Accuracy: 1.000000 Validation Accuracy: 0.754000\n",
      "Epoch 30, CIFAR-10 Batch 5:  Loss:   0.0167 Train Accuracy: 1.000000 Validation Accuracy: 0.751000\n"
     ]
    }
   ],
   "source": [
    "\"\"\"\n",
    "DON'T MODIFY ANYTHING IN THIS CELL\n",
    "\"\"\"\n",
    "save_model_path = './image_classification'\n",
    "\n",
    "print('Training...')\n",
    "with tf.Session() as sess:\n",
    "    # Initializing the variables\n",
    "    sess.run(tf.global_variables_initializer())\n",
    "    \n",
    "    # Training cycle\n",
    "    for epoch in range(epochs):\n",
    "        # Loop over all batches\n",
    "        n_batches = 5\n",
    "        for batch_i in range(1, n_batches + 1):\n",
    "            for batch_features, batch_labels in helper.load_preprocess_training_batch(batch_i, batch_size):\n",
    "                train_neural_network(sess, optimizer, keep_probability, batch_features, batch_labels)\n",
    "            print('Epoch {:>2}, CIFAR-10 Batch {}:  '.format(epoch + 1, batch_i), end='')\n",
    "            print_stats(sess, batch_features, batch_labels, cost, accuracy)\n",
    "            \n",
    "    # Save Model\n",
    "    saver = tf.train.Saver()\n",
    "    save_path = saver.save(sess, save_model_path)"
   ]
  },
  {
   "cell_type": "markdown",
   "metadata": {},
   "source": [
    "# Checkpoint\n",
    "The model has been saved to disk.\n",
    "## Test Model\n",
    "Test your model against the test dataset.  This will be your final accuracy. You should have an accuracy greater than 50%. If you don't, keep tweaking the model architecture and parameters."
   ]
  },
  {
   "cell_type": "code",
   "execution_count": 544,
   "metadata": {},
   "outputs": [
    {
     "name": "stdout",
     "output_type": "stream",
     "text": [
      "Testing Accuracy: 0.7486155063291139\n",
      "\n"
     ]
    },
    {
     "data": {
      "image/png": "[encoded data removed]",
      "text/plain": [
       "<matplotlib.figure.Figure at 0x7f03400bf550>"
      ]
     },
     "metadata": {
      "image/png": {
       "height": 319,
       "width": 355
      }
     },
     "output_type": "display_data"
    }
   ],
   "source": [
    "\"\"\"\n",
    "DON'T MODIFY ANYTHING IN THIS CELL\n",
    "\"\"\"\n",
    "%matplotlib inline\n",
    "%config InlineBackend.figure_format = 'retina'\n",
    "\n",
    "import tensorflow as tf\n",
    "import pickle\n",
    "import helper\n",
    "import random\n",
    "\n",
    "# Set batch size if not already set\n",
    "try:\n",
    "    if batch_size:\n",
    "        pass\n",
    "except NameError:\n",
    "    batch_size = 64\n",
    "\n",
    "save_model_path = './image_classification'\n",
    "n_samples = 4\n",
    "top_n_predictions = 3\n",
    "\n",
    "def test_model():\n",
    "    \"\"\"\n",
    "    Test the saved model against the test dataset\n",
    "    \"\"\"\n",
    "\n",
    "    test_features, test_labels = pickle.load(open('preprocess_training.p', mode='rb'))\n",
    "    loaded_graph = tf.Graph()\n",
    "\n",
    "    with tf.Session(graph=loaded_graph) as sess:\n",
    "        # Load model\n",
    "        loader = tf.train.import_meta_graph(save_model_path + '.meta')\n",
    "        loader.restore(sess, save_model_path)\n",
    "\n",
    "        # Get Tensors from loaded model\n",
    "        loaded_x = loaded_graph.get_tensor_by_name('x:0')\n",
    "        loaded_y = loaded_graph.get_tensor_by_name('y:0')\n",
    "        loaded_keep_prob = loaded_graph.get_tensor_by_name('keep_prob:0')\n",
    "        loaded_logits = loaded_graph.get_tensor_by_name('logits:0')\n",
    "        loaded_acc = loaded_graph.get_tensor_by_name('accuracy:0')\n",
    "        \n",
    "        # Get accuracy in batches for memory limitations\n",
    "        test_batch_acc_total = 0\n",
    "        test_batch_count = 0\n",
    "        \n",
    "        for train_feature_batch, train_label_batch in helper.batch_features_labels(test_features, test_labels, batch_size):\n",
    "            test_batch_acc_total += sess.run(\n",
    "                loaded_acc,\n",
    "                feed_dict={loaded_x: train_feature_batch, loaded_y: train_label_batch, loaded_keep_prob: 1.0})\n",
    "            test_batch_count += 1\n",
    "\n",
    "        print('Testing Accuracy: {}\\n'.format(test_batch_acc_total/test_batch_count))\n",
    "\n",
    "        # Print Random Samples\n",
    "        random_test_features, random_test_labels = tuple(zip(*random.sample(list(zip(test_features, test_labels)), n_samples)))\n",
    "        random_test_predictions = sess.run(\n",
    "            tf.nn.top_k(tf.nn.softmax(loaded_logits), top_n_predictions),\n",
    "            feed_dict={loaded_x: random_test_features, loaded_y: random_test_labels, loaded_keep_prob: 1.0})\n",
    "        helper.display_image_predictions(random_test_features, random_test_labels, random_test_predictions)\n",
    "\n",
    "\n",
    "test_model()"
   ]
  },
  {
   "cell_type": "markdown",
   "metadata": {},
   "source": [
    "## Why 50-70% Accuracy?\n",
    "You might be wondering why you can't get an accuracy any higher. First things first, 50% isn't bad for a simple CNN.  Pure guessing would get you 10% accuracy. However, you might notice people are getting scores [well above 70%](http://rodrigob.github.io/are_we_there_yet/build/classification_datasets_results.html#43494641522d3130).  That's because we haven't taught you all there is to know about neural networks. We still need to cover a few more techniques.\n",
    "## Submitting This Project\n",
    "When submitting this project, make sure to run all the cells before saving the notebook.  Save the notebook file as \"dlnd_image_classification.ipynb\" and save it as a HTML file under \"File\" -> \"Download as\".  Include the \"helper.py\" and \"problem_unittests.py\" files in your submission."
   ]
  }
 ],
 "metadata": {
  "kernelspec": {
   "display_name": "Python 3",
   "language": "python",
   "name": "python3"
  },
  "language_info": {
   "codemirror_mode": {
    "name": "ipython",
    "version": 3
   },
   "file_extension": ".py",
   "mimetype": "text/x-python",
   "name": "python",
   "nbconvert_exporter": "python",
   "pygments_lexer": "ipython3",
   "version": "3.6.1"
  },
  "widgets": {
   "state": {},
   "version": "1.1.2"
  }
 },
 "nbformat": 4,
 "nbformat_minor": 1
}
